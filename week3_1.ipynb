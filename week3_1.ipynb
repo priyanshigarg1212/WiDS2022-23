{
 "cells": [
  {
   "cell_type": "code",
   "execution_count": 2,
   "metadata": {},
   "outputs": [],
   "source": [
    "import numpy as np\n",
    "import pandas as pd\n",
    "import random"
   ]
  },
  {
   "cell_type": "code",
   "execution_count": 19,
   "metadata": {},
   "outputs": [],
   "source": [
    "import numpy as np\n",
    "import pandas as pd\n",
    "\n",
    "# Create the features as a NumPy array with 20 rows and 5 columns\n",
    "features = np.random.randint(6, size=(20, 5))\n",
    "\n",
    "# Create the labels as a NumPy array with 20 elements\n",
    "labels = np.random.randint(2, size=20)\n",
    "\n",
    "# Create a dictionary with the feature and label arrays\n",
    "data = {f\"feature {i+1}\": features[:,i] for i in range(5)}\n",
    "data['labels'] = labels\n",
    "\n",
    "# Create a Pandas DataFrame with the feature and label arrays\n",
    "df = pd.DataFrame(data)\n"
   ]
  },
  {
   "cell_type": "code",
   "execution_count": 20,
   "metadata": {},
   "outputs": [
    {
     "data": {
      "text/html": [
       "<div>\n",
       "<style scoped>\n",
       "    .dataframe tbody tr th:only-of-type {\n",
       "        vertical-align: middle;\n",
       "    }\n",
       "\n",
       "    .dataframe tbody tr th {\n",
       "        vertical-align: top;\n",
       "    }\n",
       "\n",
       "    .dataframe thead th {\n",
       "        text-align: right;\n",
       "    }\n",
       "</style>\n",
       "<table border=\"1\" class=\"dataframe\">\n",
       "  <thead>\n",
       "    <tr style=\"text-align: right;\">\n",
       "      <th></th>\n",
       "      <th>feature 1</th>\n",
       "      <th>feature 2</th>\n",
       "      <th>feature 3</th>\n",
       "      <th>feature 4</th>\n",
       "      <th>feature 5</th>\n",
       "      <th>labels</th>\n",
       "    </tr>\n",
       "  </thead>\n",
       "  <tbody>\n",
       "    <tr>\n",
       "      <th>0</th>\n",
       "      <td>0</td>\n",
       "      <td>3</td>\n",
       "      <td>5</td>\n",
       "      <td>0</td>\n",
       "      <td>0</td>\n",
       "      <td>1</td>\n",
       "    </tr>\n",
       "    <tr>\n",
       "      <th>1</th>\n",
       "      <td>2</td>\n",
       "      <td>0</td>\n",
       "      <td>5</td>\n",
       "      <td>2</td>\n",
       "      <td>0</td>\n",
       "      <td>0</td>\n",
       "    </tr>\n",
       "    <tr>\n",
       "      <th>2</th>\n",
       "      <td>4</td>\n",
       "      <td>3</td>\n",
       "      <td>3</td>\n",
       "      <td>4</td>\n",
       "      <td>1</td>\n",
       "      <td>0</td>\n",
       "    </tr>\n",
       "    <tr>\n",
       "      <th>3</th>\n",
       "      <td>1</td>\n",
       "      <td>0</td>\n",
       "      <td>1</td>\n",
       "      <td>5</td>\n",
       "      <td>3</td>\n",
       "      <td>0</td>\n",
       "    </tr>\n",
       "    <tr>\n",
       "      <th>4</th>\n",
       "      <td>4</td>\n",
       "      <td>4</td>\n",
       "      <td>3</td>\n",
       "      <td>3</td>\n",
       "      <td>0</td>\n",
       "      <td>0</td>\n",
       "    </tr>\n",
       "    <tr>\n",
       "      <th>5</th>\n",
       "      <td>4</td>\n",
       "      <td>5</td>\n",
       "      <td>4</td>\n",
       "      <td>1</td>\n",
       "      <td>5</td>\n",
       "      <td>0</td>\n",
       "    </tr>\n",
       "    <tr>\n",
       "      <th>6</th>\n",
       "      <td>5</td>\n",
       "      <td>2</td>\n",
       "      <td>1</td>\n",
       "      <td>2</td>\n",
       "      <td>2</td>\n",
       "      <td>1</td>\n",
       "    </tr>\n",
       "    <tr>\n",
       "      <th>7</th>\n",
       "      <td>5</td>\n",
       "      <td>2</td>\n",
       "      <td>4</td>\n",
       "      <td>1</td>\n",
       "      <td>5</td>\n",
       "      <td>1</td>\n",
       "    </tr>\n",
       "    <tr>\n",
       "      <th>8</th>\n",
       "      <td>3</td>\n",
       "      <td>4</td>\n",
       "      <td>3</td>\n",
       "      <td>4</td>\n",
       "      <td>0</td>\n",
       "      <td>1</td>\n",
       "    </tr>\n",
       "    <tr>\n",
       "      <th>9</th>\n",
       "      <td>1</td>\n",
       "      <td>4</td>\n",
       "      <td>2</td>\n",
       "      <td>2</td>\n",
       "      <td>2</td>\n",
       "      <td>0</td>\n",
       "    </tr>\n",
       "    <tr>\n",
       "      <th>10</th>\n",
       "      <td>1</td>\n",
       "      <td>3</td>\n",
       "      <td>5</td>\n",
       "      <td>5</td>\n",
       "      <td>4</td>\n",
       "      <td>1</td>\n",
       "    </tr>\n",
       "    <tr>\n",
       "      <th>11</th>\n",
       "      <td>1</td>\n",
       "      <td>4</td>\n",
       "      <td>5</td>\n",
       "      <td>0</td>\n",
       "      <td>3</td>\n",
       "      <td>1</td>\n",
       "    </tr>\n",
       "    <tr>\n",
       "      <th>12</th>\n",
       "      <td>4</td>\n",
       "      <td>3</td>\n",
       "      <td>1</td>\n",
       "      <td>4</td>\n",
       "      <td>2</td>\n",
       "      <td>1</td>\n",
       "    </tr>\n",
       "    <tr>\n",
       "      <th>13</th>\n",
       "      <td>2</td>\n",
       "      <td>4</td>\n",
       "      <td>2</td>\n",
       "      <td>1</td>\n",
       "      <td>1</td>\n",
       "      <td>1</td>\n",
       "    </tr>\n",
       "    <tr>\n",
       "      <th>14</th>\n",
       "      <td>5</td>\n",
       "      <td>3</td>\n",
       "      <td>5</td>\n",
       "      <td>4</td>\n",
       "      <td>5</td>\n",
       "      <td>0</td>\n",
       "    </tr>\n",
       "    <tr>\n",
       "      <th>15</th>\n",
       "      <td>0</td>\n",
       "      <td>2</td>\n",
       "      <td>2</td>\n",
       "      <td>1</td>\n",
       "      <td>0</td>\n",
       "      <td>1</td>\n",
       "    </tr>\n",
       "    <tr>\n",
       "      <th>16</th>\n",
       "      <td>4</td>\n",
       "      <td>3</td>\n",
       "      <td>2</td>\n",
       "      <td>3</td>\n",
       "      <td>3</td>\n",
       "      <td>0</td>\n",
       "    </tr>\n",
       "    <tr>\n",
       "      <th>17</th>\n",
       "      <td>5</td>\n",
       "      <td>4</td>\n",
       "      <td>5</td>\n",
       "      <td>3</td>\n",
       "      <td>4</td>\n",
       "      <td>0</td>\n",
       "    </tr>\n",
       "    <tr>\n",
       "      <th>18</th>\n",
       "      <td>0</td>\n",
       "      <td>4</td>\n",
       "      <td>2</td>\n",
       "      <td>1</td>\n",
       "      <td>5</td>\n",
       "      <td>1</td>\n",
       "    </tr>\n",
       "    <tr>\n",
       "      <th>19</th>\n",
       "      <td>5</td>\n",
       "      <td>1</td>\n",
       "      <td>1</td>\n",
       "      <td>0</td>\n",
       "      <td>5</td>\n",
       "      <td>0</td>\n",
       "    </tr>\n",
       "  </tbody>\n",
       "</table>\n",
       "</div>"
      ],
      "text/plain": [
       "    feature 1  feature 2  feature 3  feature 4  feature 5  labels\n",
       "0           0          3          5          0          0       1\n",
       "1           2          0          5          2          0       0\n",
       "2           4          3          3          4          1       0\n",
       "3           1          0          1          5          3       0\n",
       "4           4          4          3          3          0       0\n",
       "5           4          5          4          1          5       0\n",
       "6           5          2          1          2          2       1\n",
       "7           5          2          4          1          5       1\n",
       "8           3          4          3          4          0       1\n",
       "9           1          4          2          2          2       0\n",
       "10          1          3          5          5          4       1\n",
       "11          1          4          5          0          3       1\n",
       "12          4          3          1          4          2       1\n",
       "13          2          4          2          1          1       1\n",
       "14          5          3          5          4          5       0\n",
       "15          0          2          2          1          0       1\n",
       "16          4          3          2          3          3       0\n",
       "17          5          4          5          3          4       0\n",
       "18          0          4          2          1          5       1\n",
       "19          5          1          1          0          5       0"
      ]
     },
     "execution_count": 20,
     "metadata": {},
     "output_type": "execute_result"
    }
   ],
   "source": [
    "df\n"
   ]
  },
  {
   "cell_type": "code",
   "execution_count": 21,
   "metadata": {},
   "outputs": [],
   "source": [
    "features_list = list(features)"
   ]
  },
  {
   "cell_type": "code",
   "execution_count": 22,
   "metadata": {},
   "outputs": [],
   "source": [
    "labels_list = list (labels)"
   ]
  },
  {
   "cell_type": "code",
   "execution_count": 23,
   "metadata": {},
   "outputs": [
    {
     "data": {
      "text/plain": [
       "[array([0, 3, 5, 0, 0]),\n",
       " array([2, 0, 5, 2, 0]),\n",
       " array([4, 3, 3, 4, 1]),\n",
       " array([1, 0, 1, 5, 3]),\n",
       " array([4, 4, 3, 3, 0]),\n",
       " array([4, 5, 4, 1, 5]),\n",
       " array([5, 2, 1, 2, 2]),\n",
       " array([5, 2, 4, 1, 5]),\n",
       " array([3, 4, 3, 4, 0]),\n",
       " array([1, 4, 2, 2, 2]),\n",
       " array([1, 3, 5, 5, 4]),\n",
       " array([1, 4, 5, 0, 3]),\n",
       " array([4, 3, 1, 4, 2]),\n",
       " array([2, 4, 2, 1, 1]),\n",
       " array([5, 3, 5, 4, 5]),\n",
       " array([0, 2, 2, 1, 0]),\n",
       " array([4, 3, 2, 3, 3]),\n",
       " array([5, 4, 5, 3, 4]),\n",
       " array([0, 4, 2, 1, 5]),\n",
       " array([5, 1, 1, 0, 5])]"
      ]
     },
     "execution_count": 23,
     "metadata": {},
     "output_type": "execute_result"
    }
   ],
   "source": [
    "features_list"
   ]
  },
  {
   "cell_type": "code",
   "execution_count": 24,
   "metadata": {},
   "outputs": [],
   "source": [
    "w1 = np.random.randn(3,5) * 0.01\n",
    "w2 = np.random.randn(3,3) * 0.01\n",
    "w3 = np.random.randn(1,3) * 0.01\n",
    "\n",
    "b1 = np.zeros((3,1))\n",
    "b2 = np.zeros((3,1))\n",
    "b3 = np.zeros((1,1))"
   ]
  },
  {
   "cell_type": "code",
   "execution_count": 25,
   "metadata": {},
   "outputs": [],
   "source": [
    "a0 = np.zeros((5,1))\n",
    "a1 = np.zeros((3,1))\n",
    "a2 = np.zeros((3,1))\n",
    "a3 = np.zeros((1,1))\n",
    "z1 = np.zeros((3,1))\n",
    "z2 = np.zeros((3,1))\n",
    "z3 = np.zeros((1,1))"
   ]
  },
  {
   "cell_type": "code",
   "execution_count": 55,
   "metadata": {},
   "outputs": [
    {
     "name": "stdout",
     "output_type": "stream",
     "text": [
      "w1 [[ 1.58302508e-02  1.73055621e-02 -8.33510453e-05  4.88404344e-03\n",
      "  -2.79817476e-03]\n",
      " [ 3.17871212e-03 -4.45282930e-03  5.89123166e-03  1.10903285e-03\n",
      "   4.89872582e-03]\n",
      " [-6.60564901e-03  8.68040481e-04 -2.18391081e-02 -1.97517176e-02\n",
      "   6.45944868e-03]]\n",
      "w2 [[ 0.01943714  0.00459172 -0.00890106]\n",
      " [ 0.00131624 -0.03110848 -0.01463569]\n",
      " [-0.00235501  0.01066755  0.01312488]]\n",
      "w3 [[-0.00019923  0.00371024 -0.00162017]]\n"
     ]
    }
   ],
   "source": [
    "print('w1', w1)\n",
    "print('w2', w2)\n",
    "print('w3', w3)"
   ]
  },
  {
   "cell_type": "code",
   "execution_count": 26,
   "metadata": {},
   "outputs": [
    {
     "data": {
      "text/plain": [
       "array([1, 0, 0, 0, 0, 0, 1, 1, 1, 0, 1, 1, 1, 1, 0, 1, 0, 0, 1, 0])"
      ]
     },
     "execution_count": 26,
     "metadata": {},
     "output_type": "execute_result"
    }
   ],
   "source": [
    "labels"
   ]
  },
  {
   "cell_type": "code",
   "execution_count": 18,
   "metadata": {},
   "outputs": [
    {
     "data": {
      "text/plain": [
       "array([[1., 1., 1., 1., 1., 1., 1., 1., 1., 1., 1., 1., 1., 1., 1., 1.,\n",
       "        1., 1., 1., 1.]])"
      ]
     },
     "execution_count": 18,
     "metadata": {},
     "output_type": "execute_result"
    }
   ],
   "source": [
    "a3"
   ]
  },
  {
   "cell_type": "code",
   "execution_count": 28,
   "metadata": {},
   "outputs": [
    {
     "name": "stdout",
     "output_type": "stream",
     "text": [
      "(1, 20)\n"
     ]
    }
   ],
   "source": [
    "# features variable contains all the training examples as a numpy array\n",
    "# label variale contains the features\n",
    "x = np.transpose(features)\n",
    "y = np.transpose(labels)\n",
    "\n",
    "#Forward Pass\n",
    "a0 = x\n",
    "z1 = np.dot(w1,a0) + b1\n",
    "a1 = np.maximum(0,z1)\n",
    "z2 = np.dot(w2,a1) + b2\n",
    "a2 = np.maximum(0,z2)\n",
    "z3 = np.dot(w3,a2) + b3\n",
    "print(z3.shape)\n",
    "a3 = 1/(1 + np.exp(-z3))\n",
    "\n",
    "\n",
    "\n",
    "\n"
   ]
  },
  {
   "cell_type": "code",
   "execution_count": 56,
   "metadata": {},
   "outputs": [
    {
     "data": {
      "text/plain": [
       "array([[0.49999993, 0.49999983, 0.49999987, 0.49999987, 0.49999985,\n",
       "        0.49999982, 0.49999988, 0.49999974, 0.49999987, 0.49999991,\n",
       "        0.4999998 , 0.49999986, 0.49999987, 0.4999999 , 0.49999972,\n",
       "        0.49999996, 0.49999987, 0.49999977, 0.49999991, 0.49999981]])"
      ]
     },
     "execution_count": 56,
     "metadata": {},
     "output_type": "execute_result"
    }
   ],
   "source": [
    "a3"
   ]
  },
  {
   "cell_type": "code",
   "execution_count": 57,
   "metadata": {},
   "outputs": [
    {
     "data": {
      "text/plain": [
       "array([[1, 0, 0, 0, 0, 0, 1, 1, 1, 0, 1, 1, 1, 1, 0, 1, 0, 0, 1, 0]])"
      ]
     },
     "execution_count": 57,
     "metadata": {},
     "output_type": "execute_result"
    }
   ],
   "source": [
    "y"
   ]
  },
  {
   "cell_type": "code",
   "execution_count": 60,
   "metadata": {},
   "outputs": [
    {
     "name": "stdout",
     "output_type": "stream",
     "text": [
      "4.999999589339379\n",
      "Loss is:  0.24999997946696895\n"
     ]
    }
   ],
   "source": [
    "def mse(x,y):\n",
    "    x = list(x)\n",
    "    y = list(y)\n",
    "    summ = 0\n",
    "    for i,j in zip(x,y):\n",
    "        summ += (i-j)**2\n",
    "    print(summ)\n",
    "    return summ/len(x)\n",
    "\n",
    "print('Loss is: ', mse(a3[0],y[0]))"
   ]
  },
  {
   "cell_type": "code",
   "execution_count": 33,
   "metadata": {},
   "outputs": [],
   "source": [
    "y = y.reshape(1,20)"
   ]
  },
  {
   "cell_type": "code",
   "execution_count": 54,
   "metadata": {},
   "outputs": [],
   "source": [
    "#BackProp\n",
    "dZ3 = a3 - y\n",
    "\n",
    "dW3 = np.dot(dZ3 , np.transpose(a2))/20\n",
    "db3 = np.sum(dZ3, axis=1, keepdims=True)\n",
    "temp1 = 1 * (z2>0)\n",
    "dZ2 = np.dot(np.transpose(w3),dZ3) * temp1\n",
    "dW2 = np.dot(dZ2 , np.transpose(a1))/20\n",
    "db2 = np.sum(dZ2, axis=1, keepdims=True)\n",
    "temp2 = 1 * (z1>0)\n",
    "dZ1 = np.dot(np.transpose(w2),dZ2) * temp2\n",
    "dW1 = np.dot(dZ1 , np.transpose(a0))/20\n",
    "db1 = np.sum(dZ1, axis=1, keepdims=True)\n",
    "\n",
    "\n",
    "\n",
    "\n",
    "\n",
    "\n"
   ]
  },
  {
   "cell_type": "code",
   "execution_count": 69,
   "metadata": {},
   "outputs": [],
   "source": [
    "learning_rate = 0.1\n",
    "w3 = w3 - (learning_rate*dW3)\n",
    "w2 = w2 - (learning_rate*dW2)\n",
    "w1 = w1 - (learning_rate*dW1)\n",
    "b3 = b3 - (learning_rate*db3)\n",
    "b2 = b2 - (learning_rate*db2)\n",
    "b1 = b1 - (learning_rate*db1)\n",
    "\n"
   ]
  },
  {
   "cell_type": "code",
   "execution_count": 70,
   "metadata": {},
   "outputs": [
    {
     "name": "stdout",
     "output_type": "stream",
     "text": [
      "(1, 20)\n"
     ]
    }
   ],
   "source": [
    "\n",
    "x = np.transpose(features)\n",
    "y = np.transpose(labels)\n",
    "\n",
    "#Forward Pass\n",
    "a0 = x\n",
    "z1 = np.dot(w1,a0) + b1\n",
    "a1 = np.maximum(0,z1)\n",
    "z2 = np.dot(w2,a1) + b2\n",
    "a2 = np.maximum(0,z2)\n",
    "z3 = np.dot(w3,a2) + b3\n",
    "print(z3.shape)\n",
    "a3 = 1/(1 + np.exp(-z3))\n",
    "\n",
    "\n",
    "\n",
    "\n"
   ]
  },
  {
   "cell_type": "code",
   "execution_count": 73,
   "metadata": {},
   "outputs": [
    {
     "data": {
      "text/plain": [
       "array([[ 1.58302005e-02,  1.73055195e-02, -8.33613813e-05,\n",
       "         4.88401322e-03, -2.79819481e-03],\n",
       "       [ 3.17965039e-03, -4.45283936e-03,  5.89132924e-03,\n",
       "         1.10957579e-03,  4.89912115e-03],\n",
       "       [-6.60564901e-03,  8.68040481e-04, -2.18391081e-02,\n",
       "        -1.97517176e-02,  6.45944868e-03]])"
      ]
     },
     "execution_count": 73,
     "metadata": {},
     "output_type": "execute_result"
    }
   ],
   "source": [
    "w1"
   ]
  },
  {
   "cell_type": "code",
   "execution_count": 68,
   "metadata": {},
   "outputs": [
    {
     "data": {
      "text/plain": [
       "array([[ 4.56985799e-07,  3.87253205e-07,  9.39629686e-08,\n",
       "         2.74761758e-07,  1.82224167e-07],\n",
       "       [-8.52973824e-06,  9.14875452e-08, -8.87027033e-07,\n",
       "        -4.93586132e-06, -3.59387158e-06],\n",
       "       [ 0.00000000e+00,  0.00000000e+00,  0.00000000e+00,\n",
       "         0.00000000e+00,  0.00000000e+00]])"
      ]
     },
     "execution_count": 68,
     "metadata": {},
     "output_type": "execute_result"
    }
   ],
   "source": [
    "dW1"
   ]
  },
  {
   "cell_type": "code",
   "execution_count": 35,
   "metadata": {},
   "outputs": [],
   "source": [
    "a = np.array([1,2])"
   ]
  },
  {
   "cell_type": "code",
   "execution_count": 36,
   "metadata": {},
   "outputs": [
    {
     "data": {
      "text/plain": [
       "array([0.5, 1. ])"
      ]
     },
     "execution_count": 36,
     "metadata": {},
     "output_type": "execute_result"
    }
   ],
   "source": [
    "a/2"
   ]
  },
  {
   "cell_type": "code",
   "execution_count": 41,
   "metadata": {},
   "outputs": [
    {
     "data": {
      "text/plain": [
       "array([0, 1])"
      ]
     },
     "execution_count": 41,
     "metadata": {},
     "output_type": "execute_result"
    }
   ],
   "source": [
    "1*(a>1)"
   ]
  },
  {
   "cell_type": "code",
   "execution_count": null,
   "metadata": {},
   "outputs": [],
   "source": []
  }
 ],
 "metadata": {
  "interpreter": {
   "hash": "192bc99e9391c08d46fc76b641cab59196c6ab4b234a1df86772f54e788b7702"
  },
  "kernelspec": {
   "display_name": "Python 3.9.15 ('snowflakes')",
   "language": "python",
   "name": "python3"
  },
  "language_info": {
   "codemirror_mode": {
    "name": "ipython",
    "version": 3
   },
   "file_extension": ".py",
   "mimetype": "text/x-python",
   "name": "python",
   "nbconvert_exporter": "python",
   "pygments_lexer": "ipython3",
   "version": "3.9.15"
  },
  "orig_nbformat": 4
 },
 "nbformat": 4,
 "nbformat_minor": 2
}
